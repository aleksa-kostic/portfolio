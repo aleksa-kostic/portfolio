{
 "cells": [
  {
   "cell_type": "markdown",
   "metadata": {},
   "source": [
    "Aleksa Kostic 52228237\n",
    "\n",
    "Mandt\n",
    "\n",
    "CS 178, Lec A (34340)\n",
    "\n",
    "23 April 2021"
   ]
  },
  {
   "cell_type": "markdown",
   "metadata": {},
   "source": [
    "# Problem 1: Linear Regression"
   ]
  },
  {
   "cell_type": "markdown",
   "metadata": {},
   "source": [
    "## 1."
   ]
  },
  {
   "cell_type": "code",
   "execution_count": 1,
   "metadata": {},
   "outputs": [],
   "source": [
    "import numpy as np\n",
    "import matplotlib.pyplot as plt"
   ]
  },
  {
   "cell_type": "code",
   "execution_count": 2,
   "metadata": {},
   "outputs": [],
   "source": [
    "import mltools as ml"
   ]
  },
  {
   "cell_type": "code",
   "execution_count": 3,
   "metadata": {},
   "outputs": [],
   "source": [
    "data = np.genfromtxt(\"data/curve80.txt\", delimiter=None)"
   ]
  },
  {
   "cell_type": "code",
   "execution_count": 4,
   "metadata": {},
   "outputs": [
    {
     "name": "stdout",
     "output_type": "stream",
     "text": [
      "(60, 1)\n",
      "(20, 1)\n",
      "(60,)\n",
      "(20,)\n"
     ]
    }
   ],
   "source": [
    "X = data[:,0]\n",
    "X = np.atleast_2d(X).T # code expects shape (M,N) so make sure it's 2-d\n",
    "Y = data[:,1]\n",
    "Xtr, Xte, Ytr, Yte = ml.splitData(X,Y,0.75) # split data set 75/25\n",
    "print(np.shape(Xtr))\n",
    "print(np.shape(Xte))\n",
    "print(np.shape(Ytr))\n",
    "print(np.shape(Yte))"
   ]
  },
  {
   "cell_type": "markdown",
   "metadata": {},
   "source": [
    "## 2."
   ]
  },
  {
   "cell_type": "code",
   "execution_count": 5,
   "metadata": {},
   "outputs": [],
   "source": [
    "lr = ml.linear.linearRegress( Xtr, Ytr ) # create and train model\n",
    "xs = np.linspace(0,10,200)  # densely sample possible x-values\n",
    "xs = xs[:,np.newaxis]       # force \"xs\" to be an Mx1 matrix (expected by our code)\n",
    "ys = lr.predict( xs )       # make predictions at xs"
   ]
  },
  {
   "cell_type": "markdown",
   "metadata": {},
   "source": [
    "### (a)"
   ]
  },
  {
   "cell_type": "code",
   "execution_count": 6,
   "metadata": {},
   "outputs": [
    {
     "data": {
      "text/plain": [
       "[<matplotlib.lines.Line2D at 0x21429185e48>]"
      ]
     },
     "execution_count": 6,
     "metadata": {},
     "output_type": "execute_result"
    },
    {
     "data": {
      "image/png": "[encoded data removed]",
      "text/plain": [
       "<Figure size 432x288 with 1 Axes>"
      ]
     },
     "metadata": {
      "needs_background": "light"
     },
     "output_type": "display_data"
    }
   ],
   "source": [
    "plt.plot(Xtr, Ytr, 'o')\n",
    "plt.plot(xs, ys)"
   ]
  },
  {
   "cell_type": "markdown",
   "metadata": {},
   "source": [
    "### (b)"
   ]
  },
  {
   "cell_type": "code",
   "execution_count": 7,
   "metadata": {},
   "outputs": [
    {
     "name": "stdout",
     "output_type": "stream",
     "text": [
      "[[-2.82765049  0.83606916]]\n"
     ]
    }
   ],
   "source": [
    "print(lr.theta)"
   ]
  },
  {
   "cell_type": "code",
   "execution_count": 9,
   "metadata": {},
   "outputs": [
    {
     "data": {
      "text/plain": [
       "[<matplotlib.lines.Line2D at 0x2142952f2e8>]"
      ]
     },
     "execution_count": 9,
     "metadata": {},
     "output_type": "execute_result"
    },
    {
     "data": {
      "image/png": "[encoded data removed]",
      "text/plain": [
       "<Figure size 432x288 with 1 Axes>"
      ]
     },
     "metadata": {
      "needs_background": "light"
     },
     "output_type": "display_data"
    }
   ],
   "source": [
    "# (x,y) plot from training data\n",
    "plt.plot(Xtr, Ytr, 'o')\n",
    "# manually plotting linear regression coefficients using \"xs\"\n",
    "plt.plot(xs, xs*0.83606916 - 2.82765049,'g')\n",
    "# manually plotting y_hat points using \"Xtr\"\n",
    "plt.plot(Xtr, Xtr*0.83606916 - 2.82765049,'r+')"
   ]
  },
  {
   "cell_type": "markdown",
   "metadata": {},
   "source": [
    "The blue plots are the x-training versus y-training points, representing the given data.\n",
    "The green diagonal line is the prediction line.\n",
    "The red crosses are plotted x-training, y_hat(x-training), where y_hat is the formula y = mx + b using the theta parameter values."
   ]
  },
  {
   "cell_type": "markdown",
   "metadata": {},
   "source": [
    "### (c)"
   ]
  },
  {
   "cell_type": "markdown",
   "metadata": {},
   "source": [
    "Mean Squared Error of predictions for the training data"
   ]
  },
  {
   "cell_type": "code",
   "execution_count": 10,
   "metadata": {},
   "outputs": [
    {
     "data": {
      "text/plain": [
       "8.030381800325225"
      ]
     },
     "execution_count": 10,
     "metadata": {},
     "output_type": "execute_result"
    }
   ],
   "source": [
    "y_hat_tr = Xtr*0.83606916 - 2.82765049\n",
    "MSE_tr = np.mean((Ytr - y_hat_tr)**2)\n",
    "MSE_tr"
   ]
  },
  {
   "cell_type": "markdown",
   "metadata": {},
   "source": [
    "Mean Squared Error of predictions for the test data"
   ]
  },
  {
   "cell_type": "code",
   "execution_count": 11,
   "metadata": {},
   "outputs": [
    {
     "data": {
      "text/plain": [
       "10.793486647914342"
      ]
     },
     "execution_count": 11,
     "metadata": {},
     "output_type": "execute_result"
    }
   ],
   "source": [
    "y_hat_te = Xte*0.83606916 - 2.82765049\n",
    "MSE_te = np.mean((Yte - y_hat_te)**2)\n",
    "MSE_te"
   ]
  },
  {
   "cell_type": "markdown",
   "metadata": {},
   "source": [
    "## 3."
   ]
  },
  {
   "cell_type": "code",
   "execution_count": 12,
   "metadata": {},
   "outputs": [],
   "source": [
    "Xtr2 = np.zeros( (Xtr.shape[0],2) ) # create Mx2 array to store features\n",
    "Xtr2[:,0] = Xtr[:,0]        # place original \"x\" feature as X1\n",
    "Xtr2[:,1] = Xtr[:,0]**2     # place \"x^2\" feature as X2\n",
    "# Now, Xtr2 has two features about each data point: \"x\" and \"x^2\""
   ]
  },
  {
   "cell_type": "code",
   "execution_count": 13,
   "metadata": {},
   "outputs": [],
   "source": [
    "# Create polynomail features up to a \"degree\"; don't create constant feature\n",
    "# (the linear regression learner will add teh constant feature automatically)\n",
    "\n",
    "# XtrP = ml.transforms.fpoly(Xtr, degree, bias=False)\n"
   ]
  },
  {
   "cell_type": "code",
   "execution_count": 14,
   "metadata": {},
   "outputs": [],
   "source": [
    "# Rescale the data matrix so that the features have similar ranges/variance\n",
    "# XtrP,params = ml.transforms.rescale(XtrP)\n",
    "\n",
    "# Then we can train the model on the scaled feature matrix:\n",
    "# lr = ml.linear.linearRegress(XtrP, Ytr)\n",
    "\n",
    "# Now, apply the same polynomial expansion & scaling transformation to Xtest:\n",
    "# XteP, = ml.transforms.rescale( ml.transforms.fpoly(Xte,degree,false), params)"
   ]
  },
  {
   "cell_type": "markdown",
   "metadata": {},
   "source": [
    "_This is where the work starts_"
   ]
  },
  {
   "cell_type": "code",
   "execution_count": 69,
   "metadata": {},
   "outputs": [],
   "source": [
    "# polynomial regression models of degree d = 1,3,5,7,10,18\n",
    "d = [1,3,5,7,10,18]\n",
    "\n",
    "prm = []\n",
    "\n",
    "for i in d:\n",
    "    Xtrp = ml.transforms.fpoly(Xtr, i, bias=False)\n",
    "    Xtrp, params = ml.transforms.rescale(Xtrp)\n",
    "    lr = ml.linear.linearRegress(Xtrp, Ytr)\n",
    "    Xtep,_ = ml.transforms.rescale(ml.transforms.fpoly(Xte,i,bias=False),params)\n",
    "    prm.append((Xtrp,params,lr,Xtep,_))\n",
    "\n",
    "# prm contains a list of tuples whose values are\n",
    "# prm[i][0] = Xtrp\n",
    "# prm[i][1] = params\n",
    "# prm[i][2] = lr\n",
    "# prm[i][3] = Xtep\n",
    "# prm[i][4] = _\n",
    "# where d[i] is the degree of the polynomial"
   ]
  },
  {
   "cell_type": "markdown",
   "metadata": {},
   "source": [
    "### a."
   ]
  },
  {
   "cell_type": "code",
   "execution_count": 70,
   "metadata": {},
   "outputs": [
    {
     "name": "stdout",
     "output_type": "stream",
     "text": [
      "Degree 1\n"
     ]
    },
    {
     "data": {
      "image/png": "[encoded data removed]",
      "text/plain": [
       "<Figure size 432x288 with 1 Axes>"
      ]
     },
     "metadata": {
      "needs_background": "light"
     },
     "output_type": "display_data"
    },
    {
     "name": "stdout",
     "output_type": "stream",
     "text": [
      "Degree 3\n"
     ]
    },
    {
     "data": {
      "image/png": "[encoded data removed]",
      "text/plain": [
       "<Figure size 432x288 with 1 Axes>"
      ]
     },
     "metadata": {
      "needs_background": "light"
     },
     "output_type": "display_data"
    },
    {
     "name": "stdout",
     "output_type": "stream",
     "text": [
      "Degree 5\n"
     ]
    },
    {
     "data": {
      "image/png": "[encoded data removed]",
      "text/plain": [
       "<Figure size 432x288 with 1 Axes>"
      ]
     },
     "metadata": {
      "needs_background": "light"
     },
     "output_type": "display_data"
    },
    {
     "name": "stdout",
     "output_type": "stream",
     "text": [
      "Degree 7\n"
     ]
    },
    {
     "data": {
      "image/png": "[encoded data removed]",
      "text/plain": [
       "<Figure size 432x288 with 1 Axes>"
      ]
     },
     "metadata": {
      "needs_background": "light"
     },
     "output_type": "display_data"
    },
    {
     "name": "stdout",
     "output_type": "stream",
     "text": [
      "Degree 10\n"
     ]
    },
    {
     "data": {
      "image/png": "[encoded data removed]",
      "text/plain": [
       "<Figure size 432x288 with 1 Axes>"
      ]
     },
     "metadata": {
      "needs_background": "light"
     },
     "output_type": "display_data"
    },
    {
     "name": "stdout",
     "output_type": "stream",
     "text": [
      "Degree 18\n"
     ]
    },
    {
     "data": {
      "image/png": "[encoded data removed]",
      "text/plain": [
       "<Figure size 432x288 with 1 Axes>"
      ]
     },
     "metadata": {
      "needs_background": "light"
     },
     "output_type": "display_data"
    }
   ],
   "source": [
    "for i in range(len(prm)):\n",
    "    XtrP = prm[i][0]\n",
    "    lr = prm[i][2]\n",
    "    \n",
    "    print(\"Degree\", d[i])\n",
    "    for j in range(XtrP.shape[0]):\n",
    "        plt.plot(XtrP[j,0], lr.theta[0][0] + np.sum([lr.theta[0][1:]] * XtrP[j]), 'o')\n",
    "\n",
    "    plt.show()"
   ]
  },
  {
   "cell_type": "markdown",
   "metadata": {},
   "source": [
    "### b."
   ]
  },
  {
   "cell_type": "code",
   "execution_count": 71,
   "metadata": {},
   "outputs": [],
   "source": [
    "errTrain = []\n",
    "errTest = []\n",
    "\n",
    "for i in range(len(prm)):\n",
    "    XtrP = prm[i][0]\n",
    "    XteP = prm[i][3]\n",
    "    lr = prm[i][2]\n",
    "    \n",
    "    y_hat_tr = []\n",
    "    \n",
    "    for j in range(XtrP.shape[0]):\n",
    "        y_hat_tr.append(lr.theta[0][0] + np.sum([lr.theta[0][1:]] * XtrP[j]))\n",
    "    \n",
    "    y_hat_tr = np.array(y_hat_tr)\n",
    "    \n",
    "    y_hat_te = []\n",
    "    for j in range(XteP.shape[0]):\n",
    "        y_hat_te.append(lr.theta[0][0] + np.sum([lr.theta[0][1:]] * XteP[j]))\n",
    "   \n",
    "    y_hat_te = np.array(y_hat_te)\n",
    "    \n",
    "    errTraini = np.mean((Ytr - y_hat_tr)**2)\n",
    "    errTesti = np.mean((Yte - y_hat_te)**2)\n",
    "    \n",
    "    errTrain.append(errTraini)\n",
    "    errTest.append(errTesti)"
   ]
  },
  {
   "cell_type": "code",
   "execution_count": 73,
   "metadata": {
    "scrolled": true
   },
   "outputs": [
    {
     "data": {
      "text/plain": [
       "[<matplotlib.lines.Line2D at 0x2142b1b32b0>,\n",
       " <matplotlib.lines.Line2D at 0x2142b067eb8>]"
      ]
     },
     "execution_count": 73,
     "metadata": {},
     "output_type": "execute_result"
    },
    {
     "data": {
      "image/png": "[encoded data removed]",
      "text/plain": [
       "<Figure size 432x288 with 1 Axes>"
      ]
     },
     "metadata": {
      "needs_background": "light"
     },
     "output_type": "display_data"
    }
   ],
   "source": [
    "d = np.array(d)\n",
    "errTrain = np.array(errTrain)\n",
    "errTest = np.array(errTest)\n",
    "plt.semilogy(d, errTrain,'r', d, errTest,'g')\n",
    "plt.semilogy(d, errTrain,'ro', d, errTest,'go')"
   ]
  },
  {
   "cell_type": "markdown",
   "metadata": {},
   "source": [
    "### c."
   ]
  },
  {
   "cell_type": "markdown",
   "metadata": {},
   "source": [
    "I recommend polynomial of degree 10 as it is the lowest error rate that the test data error achieves where the training data error is also low before the test data error exponentially increases."
   ]
  },
  {
   "cell_type": "markdown",
   "metadata": {},
   "source": [
    "# Problem 2: Cross-validation"
   ]
  },
  {
   "cell_type": "code",
   "execution_count": 68,
   "metadata": {},
   "outputs": [
    {
     "data": {
      "text/plain": [
       "7.786471875820261"
      ]
     },
     "execution_count": 68,
     "metadata": {},
     "output_type": "execute_result"
    }
   ],
   "source": [
    "nFolds = 5\n",
    "J = []\n",
    "for iFold in range(nFolds):\n",
    "    Xti, Xvi, Yti, Yvi = ml.crossValidate(Xtr, Ytr, nFolds, iFold) \n",
    "    learner = ml.linear.linearRegress( Xti, Yti ) \n",
    "    J.append(np.mean((Yvi - (learner.theta[0][0] + learner.theta[0][1]*Xvi))**2)) \n",
    "J = np.array(J)\n",
    "np.mean(J)"
   ]
  },
  {
   "cell_type": "markdown",
   "metadata": {},
   "source": [
    "## 1. "
   ]
  },
  {
   "cell_type": "code",
   "execution_count": null,
   "metadata": {},
   "outputs": [],
   "source": [
    "error_per_fxn = []\n",
    "\n",
    "# prm[i][0] = Xtrp\n",
    "# prm[i][1] = params\n",
    "# prm[i][2] = lr\n",
    "# prm[i][3] = Xtep\n",
    "# prm[i][4] = _\n",
    "# where d[i] is the degree of the polynomial\n",
    "\n",
    "J = []\n",
    "\n",
    "for i in range(len(prm)):\n",
    "    nFolds = 5\n",
    "    J2 = []\n",
    "    for iFold in range(nFolds):\n",
    "        Xti, Xvi, Yti, Yvi = ml.crossValidate(prm[i][0], Ytr, nFolds, iFold)           \n",
    "        learner = ml.linear.linearRegress( Xti, Yti )  \n",
    "        y_hat = []\n",
    "        for k in range(Xti.shape[0]):\n",
    "            y_hat.append(learner.theta[0][0] + np.sum([learner.theta[0][1:]] * Xti[k]))\n",
    "        y_hat = np.array(y_hat)\n",
    "        \n",
    "        J2.append(np.mean((Yti - y_hat)**2))\n",
    "    J2 = np.array(J2)\n",
    "    J.append(np.mean(J2))\n",
    "\n",
    "J = np.array(J)"
   ]
  },
  {
   "cell_type": "code",
   "execution_count": 35,
   "metadata": {},
   "outputs": [
    {
     "data": {
      "text/plain": [
       "[<matplotlib.lines.Line2D at 0x21429625240>,\n",
       " <matplotlib.lines.Line2D at 0x21429625400>]"
      ]
     },
     "execution_count": 35,
     "metadata": {},
     "output_type": "execute_result"
    },
    {
     "data": {
      "image/png": "[encoded data removed]",
      "text/plain": [
       "<Figure size 432x288 with 1 Axes>"
      ]
     },
     "metadata": {
      "needs_background": "light"
     },
     "output_type": "display_data"
    }
   ],
   "source": [
    "plt.semilogy(d,J,'b', d, errTest, 'g')\n",
    "plt.semilogy(d,J,'ob', d, errTest, 'og')"
   ]
  },
  {
   "cell_type": "markdown",
   "metadata": {},
   "source": [
    "## 2."
   ]
  },
  {
   "cell_type": "markdown",
   "metadata": {},
   "source": [
    "The MSE estimates from five-fold cross-validation continue to decrease (inversely) exponentially nearing 0 after polynomial degree of 10 while clearly the MSE estimates from the actual test data in problem one still increase exponentially after a polynomial degree of 10."
   ]
  },
  {
   "cell_type": "markdown",
   "metadata": {},
   "source": [
    "## 3."
   ]
  },
  {
   "cell_type": "markdown",
   "metadata": {},
   "source": [
    "For the sake of not having an overly complex model requiring more work, a polynomial degree of 7 or even 10 -- but I'm choosing 7. The MSE at degree polynomial degree 7 for the five-fold cross-validation is already considerably low."
   ]
  },
  {
   "cell_type": "markdown",
   "metadata": {},
   "source": [
    "## 4."
   ]
  },
  {
   "cell_type": "code",
   "execution_count": 62,
   "metadata": {},
   "outputs": [],
   "source": [
    "nFolds = [2,3,4,5,6,10,12,15]\n",
    "# index 3 for prm\n",
    "\n",
    "nJ = []\n",
    "\n",
    "for i in nFolds:\n",
    "    nJ2 = []\n",
    "    for iFold in range(i):\n",
    "        Xti, Xvi, Yti, Yvi = ml.crossValidate(prm[3][0], Ytr, i, iFold)            # use ith block as validation\n",
    "        learner = ml.linear.linearRegress( Xti, Yti )                                   # train on Xti, Yti, the data for this fold\n",
    "        y_hat = []\n",
    "        for k in range(Xti.shape[0]):\n",
    "            y_hat.append(learner.theta[0][0] + np.sum([learner.theta[0][1:]] * Xti[k]))   # now compute the MSE on Xvi, Yvi and save it\n",
    "        y_hat = np.array(y_hat)\n",
    "        \n",
    "        nJ2.append(np.mean((Yti - y_hat)**2))\n",
    "    nJ2 = np.array(nJ2)\n",
    "    nJ.append(np.mean(nJ2))\n",
    "\n",
    "nJ = np.array(nJ)\n",
    "nFolds = np.array(nFolds)"
   ]
  },
  {
   "cell_type": "code",
   "execution_count": 66,
   "metadata": {},
   "outputs": [
    {
     "data": {
      "text/plain": [
       "[<matplotlib.lines.Line2D at 0x214296e9748>]"
      ]
     },
     "execution_count": 66,
     "metadata": {},
     "output_type": "execute_result"
    },
    {
     "data": {
      "image/png": "[encoded data removed]",
      "text/plain": [
       "<Figure size 432x288 with 1 Axes>"
      ]
     },
     "metadata": {
      "needs_background": "light"
     },
     "output_type": "display_data"
    }
   ],
   "source": [
    "plt.semilogy(nFolds, nJ, 'b')\n",
    "plt.semilogy(nFolds, nJ, 'ob')"
   ]
  },
  {
   "cell_type": "markdown",
   "metadata": {},
   "source": [
    "As the number of folds increases, the error of the cross-validation increases logarithmically. This is probably because as more folds are implemented, smaller groups of available data are used as validation data, thus increasing the MSE of those models across the board. The logarithmic shape could be explained because as the number of validation data become smaller and smaller, the average of the individual squared errors per fold make a slightly larger impact, but less and less so with each succession. "
   ]
  }
 ],
 "metadata": {
  "kernelspec": {
   "display_name": "Python 3 (ipykernel)",
   "language": "python",
   "name": "python3"
  },
  "language_info": {
   "codemirror_mode": {
    "name": "ipython",
    "version": 3
   },
   "file_extension": ".py",
   "mimetype": "text/x-python",
   "name": "python",
   "nbconvert_exporter": "python",
   "pygments_lexer": "ipython3",
   "version": "3.9.7"
  }
 },
 "nbformat": 4,
 "nbformat_minor": 2
}
