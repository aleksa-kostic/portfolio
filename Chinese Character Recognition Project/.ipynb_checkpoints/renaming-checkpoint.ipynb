{
 "cells": [
  {
   "cell_type": "code",
   "execution_count": 1,
   "id": "00f9ab78",
   "metadata": {},
   "outputs": [],
   "source": [
    "import os, sys"
   ]
  },
  {
   "cell_type": "code",
   "execution_count": 2,
   "id": "c44cc8ac",
   "metadata": {},
   "outputs": [
    {
     "name": "stdout",
     "output_type": "stream",
     "text": [
      "The dir is: ['.ipynb_checkpoints', 'Chinese Character Recognition.ipynb', 'Chinese Character Recognition.pdf', 'classify.png', 'hanzicnn', 'hanziff', 'image.png', 'project_gui.py', 'project_gui2.py', 'renaming.ipynb', 'report.pdf', 'report.tex', '__pycache__']\n"
     ]
    }
   ],
   "source": [
    "print(\"The dir is: %s\"%os.listdir(os.getcwd()))"
   ]
  },
  {
   "cell_type": "code",
   "execution_count": 13,
   "id": "e3547e37",
   "metadata": {},
   "outputs": [
    {
     "name": "stdout",
     "output_type": "stream",
     "text": [
      "C:\\Users\\aKost\\Desktop\\data\\test\n"
     ]
    }
   ],
   "source": [
    "%cd \"../test\""
   ]
  },
  {
   "cell_type": "code",
   "execution_count": 6,
   "id": "d8eab33a",
   "metadata": {},
   "outputs": [],
   "source": [
    "test_folders = [f.name for f in os.scandir('test') if f.is_dir()]\n",
    "train_folders = [f.name for f in os.scandir('train') if f.is_dir()]"
   ]
  },
  {
   "cell_type": "code",
   "execution_count": 10,
   "id": "987e9890",
   "metadata": {},
   "outputs": [],
   "source": [
    "i=0\n",
    "for t in test_folders:\n",
    "    i += 1\n",
    "    try:\n",
    "        os.rename(t, t.encode('cp437').decode('utf-8'))\n",
    "    except UnicodeDecodeError:\n",
    "        print(f'{i, t} causes UnicodeDecodeError')\n",
    "    except UnicodeEncodeError:\n",
    "        print(f'{i, t} causes UnicodeEncodeError')\n",
    "        continue"
   ]
  },
  {
   "cell_type": "code",
   "execution_count": 14,
   "id": "417d81fc",
   "metadata": {},
   "outputs": [
    {
     "name": "stdout",
     "output_type": "stream",
     "text": [
      "C:\\Users\\aKost\\Desktop\\data\\train\n"
     ]
    }
   ],
   "source": [
    "%cd ../train"
   ]
  },
  {
   "cell_type": "code",
   "execution_count": 15,
   "id": "a91b3005",
   "metadata": {},
   "outputs": [],
   "source": [
    "i=0\n",
    "for t in train_folders:\n",
    "    i += 1\n",
    "    try:\n",
    "        os.rename(t, t.encode('cp437').decode('utf-8'))\n",
    "    except UnicodeDecodeError:\n",
    "        print(f'{i, t} causes UnicodeDecodeError')\n",
    "    except UnicodeEncodeError:\n",
    "        print(f'{i, t} causes UnicodeEncodeError')\n",
    "        continue"
   ]
  }
 ],
 "metadata": {
  "kernelspec": {
   "display_name": "Python 3 (ipykernel)",
   "language": "python",
   "name": "python3"
  },
  "language_info": {
   "codemirror_mode": {
    "name": "ipython",
    "version": 3
   },
   "file_extension": ".py",
   "mimetype": "text/x-python",
   "name": "python",
   "nbconvert_exporter": "python",
   "pygments_lexer": "ipython3",
   "version": "3.9.12"
  }
 },
 "nbformat": 4,
 "nbformat_minor": 5
}
